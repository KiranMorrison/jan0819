{
 "cells": [
  {
   "cell_type": "code",
   "execution_count": 11,
   "metadata": {},
   "outputs": [],
   "source": [
    "import winsound\n",
    "import time"
   ]
  },
  {
   "cell_type": "code",
   "execution_count": 27,
   "metadata": {},
   "outputs": [
    {
     "name": "stdin",
     "output_type": "stream",
     "text": [
      "please insert bpm 120\n"
     ]
    }
   ],
   "source": [
    "bpm = input('please insert bpm')"
   ]
  },
  {
   "cell_type": "code",
   "execution_count": 31,
   "metadata": {},
   "outputs": [
    {
     "name": "stdout",
     "output_type": "stream",
     "text": [
      "A half beat is 0.3s\n",
      "A rest will be 300ms\n"
     ]
    }
   ],
   "source": [
    "s = int(bpm)*0.15/60\n",
    "print('A half beat is {}s'.format(s))\n",
    "b = int(1000*s)\n",
    "print('A rest will be {}ms'.format(b))"
   ]
  },
  {
   "cell_type": "code",
   "execution_count": 32,
   "metadata": {},
   "outputs": [],
   "source": [
    "time.sleep(s)\n",
    "winsound.Beep(349, b) # F\n",
    "time.sleep(s)\n",
    "winsound.Beep(440, b) # A\n",
    "winsound.Beep(523, b) # C\n",
    "time.sleep(0.30)\n",
    "winsound.Beep(440, b) # A\n",
    "time.sleep(s)\n",
    "winsound.Beep(349, b) # F\n",
    "winsound.Beep(293, b) # D\n",
    "winsound.Beep(293, b) # D\n",
    "winsound.Beep(293, b) # D\n",
    "time.sleep(4*s)\n",
    "winsound.Beep(261, b) # C\n",
    "winsound.Beep(293, b) # D\n",
    "winsound.Beep(349, b) # F\n",
    "winsound.Beep(440, b) # A\n",
    "winsound.Beep(523, 3*b) # C\n",
    "time.sleep(s)\n",
    "winsound.Beep(440, b) # A\n",
    "time.sleep(s)\n",
    "winsound.Beep(349, b) # F\n",
    "winsound.Beep(660, 3*b) # E\n",
    "winsound.Beep(622, b) # Eb\n",
    "winsound.Beep(587, b) # D\n",
    "time.sleep(3*s)"
   ]
  },
  {
   "cell_type": "code",
   "execution_count": null,
   "metadata": {},
   "outputs": [],
   "source": [
    "winsound.Beep(392, 300) # G\n",
    "time.sleep(0.30)\n",
    "winsound.Beep(261, 300) # C\n",
    "winsound.Beep(349, 300) # F\n",
    "time.sleep(0.30)\n",
    "winsound.Beep(261, 300) # C\n",
    "time.sleep(0.30)\n",
    "winsound.Beep(415, 300) # G#\n",
    "time.sleep(0.30)\n",
    "winsound.Beep(261, 300) # C\n",
    "time.sleep(0.30)\n",
    "winsound.Beep(392, 300) # G\n",
    "winsound.Beep(349, 300) # F\n",
    "time.sleep(0.30)\n",
    "winsound.Beep(329, 300) # E\n",
    "time.sleep(0.30)\n",
    "winsound.Beep(329, 300) # E\n",
    "winsound.Beep(329, 300) # E\n",
    "winsound.Beep(329, 300) # E\n",
    "time.sleep(0.90)\n",
    "winsound.Beep(329, 300) # E\n",
    "winsound.Beep(329, 300) # E\n",
    "winsound.Beep(329, 300) # E\n",
    "time.sleep(0.90)\n",
    "winsound.Beep(294, 600) # D"
   ]
  }
 ],
 "metadata": {
  "kernelspec": {
   "display_name": "Python 3",
   "language": "python",
   "name": "python3"
  },
  "language_info": {
   "codemirror_mode": {
    "name": "ipython",
    "version": 3
   },
   "file_extension": ".py",
   "mimetype": "text/x-python",
   "name": "python",
   "nbconvert_exporter": "python",
   "pygments_lexer": "ipython3",
   "version": "3.7.0"
  }
 },
 "nbformat": 4,
 "nbformat_minor": 2
}

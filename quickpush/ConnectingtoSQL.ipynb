{
 "cells": [
  {
   "cell_type": "markdown",
   "metadata": {},
   "source": [
    "# Kiran you should really listen more, something about SQL maybe?\n",
    "-  driver\n",
    "-  authentication\n",
    "-  \n",
    "-  "
   ]
  },
  {
   "cell_type": "markdown",
   "metadata": {},
   "source": [
    "## Examples of this include\n",
    "-  URL Data - open connection and open data e.g. urllib\n",
    "-  pyodbc - connect and open\n",
    "-  connect to a file on the disk then open"
   ]
  },
  {
   "cell_type": "code",
   "execution_count": 3,
   "metadata": {},
   "outputs": [],
   "source": [
    "import pyodbc"
   ]
  },
  {
   "cell_type": "code",
   "execution_count": 7,
   "metadata": {},
   "outputs": [],
   "source": [
    "conn = pyodbc.connect('DRIVER={SQL Server};SERVER=192.168.101.141;DATABASE=AdventureWorks;UID=pythonlogin;PWD=python53')"
   ]
  },
  {
   "cell_type": "code",
   "execution_count": 8,
   "metadata": {},
   "outputs": [],
   "source": [
    "cur = conn.cursor()"
   ]
  },
  {
   "cell_type": "code",
   "execution_count": 38,
   "metadata": {},
   "outputs": [
    {
     "name": "stdin",
     "output_type": "stream",
     "text": [
      "Enter a minimum price please >>>  100\n"
     ]
    }
   ],
   "source": [
    "minprice = input('Enter a minimum price please >>> ')"
   ]
  },
  {
   "cell_type": "code",
   "execution_count": 39,
   "metadata": {},
   "outputs": [],
   "source": [
    "q = 'select top 10 name, productnumber, listprice from production.product where listprice > ?'"
   ]
  },
  {
   "cell_type": "code",
   "execution_count": 40,
   "metadata": {},
   "outputs": [],
   "source": [
    "data = cur.execute(q, minprice)"
   ]
  },
  {
   "cell_type": "code",
   "execution_count": 41,
   "metadata": {},
   "outputs": [
    {
     "name": "stdout",
     "output_type": "stream",
     "text": [
      "('Adjustable Race', 'AR-5381', Decimal('653.0000'))\n",
      "('ML Mountain Seat Assembly', 'SA-M237', Decimal('147.1400'))\n",
      "('HL Mountain Seat Assembly', 'SA-M687', Decimal('196.9200'))\n",
      "('LL Road Seat Assembly', 'SA-R127', Decimal('133.3400'))\n",
      "('ML Road Seat Assembly', 'SA-R430', Decimal('147.1400'))\n",
      "('HL Road Seat Assembly', 'SA-R522', Decimal('196.9200'))\n",
      "('LL Touring Seat Assembly', 'SA-T467', Decimal('133.3400'))\n",
      "('ML Touring Seat Assembly', 'SA-T612', Decimal('147.1400'))\n",
      "('HL Touring Seat Assembly', 'SA-T872', Decimal('196.9200'))\n",
      "('LL Fork', 'FK-1639', Decimal('148.2200'))\n"
     ]
    }
   ],
   "source": [
    "for r in data:\n",
    "    print(r)"
   ]
  },
  {
   "cell_type": "code",
   "execution_count": 42,
   "metadata": {},
   "outputs": [],
   "source": [
    "cur.execute('create table dbo.people (id int identity, name varchar(100), dob date)').commit()"
   ]
  },
  {
   "cell_type": "code",
   "execution_count": 43,
   "metadata": {},
   "outputs": [],
   "source": [
    "import datetime"
   ]
  },
  {
   "cell_type": "code",
   "execution_count": 44,
   "metadata": {},
   "outputs": [],
   "source": [
    "name = 'jack'\n",
    "dob = datetime.datetime.strptime('1999-01-04', '%Y-%m-%d')"
   ]
  },
  {
   "cell_type": "code",
   "execution_count": 45,
   "metadata": {},
   "outputs": [],
   "source": [
    "cur.execute('insert into dbo.people (name, dob) values(?,?)', name, dob).commit()"
   ]
  }
 ],
 "metadata": {
  "kernelspec": {
   "display_name": "Python 3",
   "language": "python",
   "name": "python3"
  },
  "language_info": {
   "codemirror_mode": {
    "name": "ipython",
    "version": 3
   },
   "file_extension": ".py",
   "mimetype": "text/x-python",
   "name": "python",
   "nbconvert_exporter": "python",
   "pygments_lexer": "ipython3",
   "version": "3.7.0"
  }
 },
 "nbformat": 4,
 "nbformat_minor": 2
}

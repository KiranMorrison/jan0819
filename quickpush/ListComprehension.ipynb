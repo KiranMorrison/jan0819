{
 "cells": [
  {
   "cell_type": "markdown",
   "metadata": {},
   "source": [
    "# List comprehension"
   ]
  },
  {
   "cell_type": "code",
   "execution_count": 1,
   "metadata": {},
   "outputs": [],
   "source": [
    "mylist = [1,2354,3,124]"
   ]
  },
  {
   "cell_type": "code",
   "execution_count": 3,
   "metadata": {},
   "outputs": [],
   "source": [
    "oddnumbers = []\n",
    "for item in mylist:\n",
    "    if item %2 != 0:\n",
    "        oddnumbers.append(item)"
   ]
  },
  {
   "cell_type": "markdown",
   "metadata": {},
   "source": [
    "### But there's a more efficient way"
   ]
  },
  {
   "cell_type": "code",
   "execution_count": 10,
   "metadata": {},
   "outputs": [],
   "source": [
    "oddnumbers = [item for item in mylist if item %2 != 0]"
   ]
  },
  {
   "cell_type": "markdown",
   "metadata": {},
   "source": [
    "### using \\ lets us break over multiple lines"
   ]
  },
  {
   "cell_type": "code",
   "execution_count": 13,
   "metadata": {},
   "outputs": [],
   "source": [
    "multiples\\\n",
    "o\\\n",
    "f\\\n",
    "th\\\n",
    "re\\\n",
    "e\\\n",
    "=\\\n",
    "[item for item in mylist if item %3 == 0]"
   ]
  },
  {
   "cell_type": "code",
   "execution_count": 14,
   "metadata": {},
   "outputs": [
    {
     "data": {
      "text/plain": [
       "[3]"
      ]
     },
     "execution_count": 14,
     "metadata": {},
     "output_type": "execute_result"
    }
   ],
   "source": [
    "multiplesofthree"
   ]
  },
  {
   "cell_type": "code",
   "execution_count": 16,
   "metadata": {},
   "outputs": [
    {
     "data": {
      "text/plain": [
       "10"
      ]
     },
     "execution_count": 16,
     "metadata": {},
     "output_type": "execute_result"
    }
   ],
   "source": [
    "8^2"
   ]
  },
  {
   "cell_type": "code",
   "execution_count": 23,
   "metadata": {},
   "outputs": [
    {
     "data": {
      "text/plain": [
       "192"
      ]
     },
     "execution_count": 23,
     "metadata": {},
     "output_type": "execute_result"
    }
   ],
   "source": [
    "201&242"
   ]
  },
  {
   "cell_type": "markdown",
   "metadata": {},
   "source": [
    "### Using input()"
   ]
  },
  {
   "cell_type": "code",
   "execution_count": 1,
   "metadata": {},
   "outputs": [
    {
     "name": "stdin",
     "output_type": "stream",
     "text": [
      "Please enter your IP address >  123111\n",
      "Please enter your IP address >  123\n",
      "Please enter your subnetmask >  1\n"
     ]
    },
    {
     "name": "stdout",
     "output_type": "stream",
     "text": [
      "you did something wrong and I hate you\n"
     ]
    }
   ],
   "source": [
    "try:\n",
    "    ip1 = input('Please enter your IP address > ')\n",
    "    ip2 = input('Please enter your IP address > ')\n",
    "    snm = input('Please enter your subnetmask > ')\n",
    "    parts1 = ip1.split('.')\n",
    "    parts2 = ip2.split('.')\n",
    "    parts3 = snm.split('.')\n",
    "    check1 = []\n",
    "    check2 = []\n",
    "    for i in range(0,4):\n",
    "        check1.append(int(parts1[i])&int(parts3[i]))\n",
    "        check2.append(int(parts2[i])&int(parts3[i]))\n",
    "    if check1 == check2:\n",
    "        print('Well done, you\\'re on the same network')\n",
    "    else:\n",
    "        print('Wah wah, you\\'re not on the same network')\n",
    "except:\n",
    "    print('you did something wrong and I hate you')"
   ]
  },
  {
   "cell_type": "markdown",
   "metadata": {},
   "source": [
    "### Defining a function where you supply the input"
   ]
  },
  {
   "cell_type": "code",
   "execution_count": 3,
   "metadata": {},
   "outputs": [],
   "source": [
    "def subnetcheck(ip1, ip2, snm):\n",
    "    '''Please enter an your ip address, the ip address to check and the subnet mask in the format w.x.y.z'''\n",
    "    try:\n",
    "        parts1 = ip1.split('.')\n",
    "        parts2 = ip2.split('.')\n",
    "        parts3 = snm.split('.')\n",
    "        check1 = []\n",
    "        check2 = []\n",
    "        for i in range(0,4):\n",
    "            check1.append(int(parts1[i])&int(parts3[i]))\n",
    "            check2.append(int(parts2[i])&int(parts3[i]))\n",
    "        if check1 == check2:\n",
    "            return 'Well done, you\\'re on the same network'\n",
    "        else:\n",
    "            return 'Wah wah, you\\'re not on the same network'\n",
    "    except:\n",
    "        print('you did something wrong and I hate you')"
   ]
  },
  {
   "cell_type": "code",
   "execution_count": 4,
   "metadata": {},
   "outputs": [
    {
     "data": {
      "text/plain": [
       "\"Wah wah, you're not on the same network\""
      ]
     },
     "execution_count": 4,
     "metadata": {},
     "output_type": "execute_result"
    }
   ],
   "source": [
    "subnetcheck('1.2.3.4','2.3.4.5','255.255.5.5')"
   ]
  },
  {
   "cell_type": "code",
   "execution_count": 5,
   "metadata": {},
   "outputs": [
    {
     "name": "stdout",
     "output_type": "stream",
     "text": [
      "you did something wrong and I hate you\n"
     ]
    }
   ],
   "source": [
    "subnetcheck('x','y','z')"
   ]
  },
  {
   "cell_type": "markdown",
   "metadata": {},
   "source": [
    "#### You can make functions with lists, they require a *"
   ]
  },
  {
   "cell_type": "code",
   "execution_count": 10,
   "metadata": {},
   "outputs": [],
   "source": [
    "def allowlist(*mylist):\n",
    "    powerlist = [i**2 for i in mylist]\n",
    "    return powerlist"
   ]
  },
  {
   "cell_type": "code",
   "execution_count": 11,
   "metadata": {},
   "outputs": [
    {
     "data": {
      "text/plain": [
       "[1, 4, 9, 16, 25]"
      ]
     },
     "execution_count": 11,
     "metadata": {},
     "output_type": "execute_result"
    }
   ],
   "source": [
    "allowlist(*[1,2,3,4,5])"
   ]
  },
  {
   "cell_type": "markdown",
   "metadata": {},
   "source": [
    "#### You can also use dictionaries with **"
   ]
  },
  {
   "cell_type": "code",
   "execution_count": 18,
   "metadata": {},
   "outputs": [],
   "source": [
    "def allowdict(**kwarg):\n",
    "    for k, v in kwarg.items():\n",
    "         print('your key is {} and your value is {}'.format(k, v))"
   ]
  },
  {
   "cell_type": "code",
   "execution_count": 19,
   "metadata": {},
   "outputs": [
    {
     "data": {
      "text/plain": [
       "'your key is lunch and your value is taters'"
      ]
     },
     "execution_count": 19,
     "metadata": {},
     "output_type": "execute_result"
    }
   ],
   "source": [
    "allowdict(**{'lunch':'taters', 'dinner':'babby'})"
   ]
  },
  {
   "cell_type": "code",
   "execution_count": null,
   "metadata": {},
   "outputs": [],
   "source": []
  }
 ],
 "metadata": {
  "kernelspec": {
   "display_name": "Python 3",
   "language": "python",
   "name": "python3"
  },
  "language_info": {
   "codemirror_mode": {
    "name": "ipython",
    "version": 3
   },
   "file_extension": ".py",
   "mimetype": "text/x-python",
   "name": "python",
   "nbconvert_exporter": "python",
   "pygments_lexer": "ipython3",
   "version": "3.7.0"
  }
 },
 "nbformat": 4,
 "nbformat_minor": 2
}

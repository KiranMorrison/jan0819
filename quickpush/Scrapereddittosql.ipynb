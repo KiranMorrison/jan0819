{
 "cells": [
  {
   "cell_type": "markdown",
   "metadata": {},
   "source": [
    "# Scraping reddit into a table in SQL\n",
    "-  connect to SQL database 'kubrick'\n",
    "-  scrape reddit\n",
    "-  create and fill a table"
   ]
  },
  {
   "cell_type": "code",
   "execution_count": 97,
   "metadata": {},
   "outputs": [],
   "source": [
    "import pyodbc"
   ]
  },
  {
   "cell_type": "code",
   "execution_count": 98,
   "metadata": {},
   "outputs": [],
   "source": [
    "conn = pyodbc.connect('DRIVER={SQL Server};SERVER=192.168.101.141;DATABASE=kubrick;UID=pythonlogin;PWD=python53')"
   ]
  },
  {
   "cell_type": "markdown",
   "metadata": {},
   "source": [
    "### Connected to SQL, now scrape reddit\n",
    "-  scraping spurs, chelsea and palace"
   ]
  },
  {
   "cell_type": "code",
   "execution_count": 120,
   "metadata": {},
   "outputs": [],
   "source": [
    "from urllib import request"
   ]
  },
  {
   "cell_type": "code",
   "execution_count": 121,
   "metadata": {},
   "outputs": [],
   "source": [
    "from datetime import datetime"
   ]
  },
  {
   "cell_type": "code",
   "execution_count": 122,
   "metadata": {},
   "outputs": [],
   "source": [
    "import json"
   ]
  },
  {
   "cell_type": "code",
   "execution_count": 123,
   "metadata": {},
   "outputs": [],
   "source": [
    "urls = ['https://www.reddit.com/r/coys.json','https://www.reddit.com/r/chelseafc.json','https://www.reddit.com/r/crystalpalace.json']"
   ]
  },
  {
   "cell_type": "code",
   "execution_count": 124,
   "metadata": {},
   "outputs": [],
   "source": [
    "cur = conn.cursor()"
   ]
  },
  {
   "cell_type": "code",
   "execution_count": 130,
   "metadata": {},
   "outputs": [],
   "source": [
    "for url in urls:\n",
    "    req = request.Request(url,headers={'User-Agent': 'Mozilla/5.0 (Windows NT 10.0; Win64; x64) AppleWebKit/537.36 (KHTML, like Gecko) Chrome/71.0.3578.98 Safari/537.36'})\n",
    "    d = request.urlopen(req)\n",
    "    data = d.read().decode('utf-8')\n",
    "    team_reddits = [json.loads(data)]\n",
    "    for dic in team_reddits:\n",
    "        for r in dic.get('data').get('children'):\n",
    "            timestamp = (datetime.fromtimestamp(r.get('data').get('created')))\n",
    "            subreddit = (r.get('data').get('subreddit'))\n",
    "            titles = (r.get('data').get('title'))\n",
    "            contents = (r.get('data').get('selftext'))\n",
    "            upvotes = (r.get('data').get('ups'))\n",
    "            downvotes = (r.get('data').get('downs'))\n",
    "            cur.execute('insert into dbo.redditposts2 (subreddit, titles, contents, upvotes, downvotes, created) values(?,?,?,?,?,?)', subreddit, titles, contents, upvotes, downvotes, timestamp).commit()"
   ]
  },
  {
   "cell_type": "code",
   "execution_count": 129,
   "metadata": {},
   "outputs": [],
   "source": [
    "cur.execute('create table dbo.redditposts2 (id int identity, created date, subreddit varchar(100), titles varchar(500), contents varchar(7998), upvotes int, downvotes int)').commit()"
   ]
  },
  {
   "cell_type": "code",
   "execution_count": null,
   "metadata": {},
   "outputs": [],
   "source": []
  }
 ],
 "metadata": {
  "kernelspec": {
   "display_name": "Python 3",
   "language": "python",
   "name": "python3"
  },
  "language_info": {
   "codemirror_mode": {
    "name": "ipython",
    "version": 3
   },
   "file_extension": ".py",
   "mimetype": "text/x-python",
   "name": "python",
   "nbconvert_exporter": "python",
   "pygments_lexer": "ipython3",
   "version": "3.7.0"
  }
 },
 "nbformat": 4,
 "nbformat_minor": 2
}

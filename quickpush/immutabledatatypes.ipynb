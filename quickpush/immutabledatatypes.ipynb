{
 "cells": [
  {
   "cell_type": "markdown",
   "metadata": {},
   "source": [
    "# immutable data types (ones that cannot inplace change)\n",
    "-  int, float, string, tuple\n",
    "-  key for a dictionary should be an int or a string\n",
    "-  the value for a dictionary can be any type including:\n",
    "    -  int\n",
    "    -  string\n",
    "    -  float\n",
    "    -  list\n",
    "    -  dictionary\n",
    "    -  set\n",
    "    -  tuple"
   ]
  },
  {
   "cell_type": "code",
   "execution_count": 6,
   "metadata": {},
   "outputs": [],
   "source": [
    "post = {\n",
    "'POSTTITLE': 'SPURS BEAT CHELSEA',\n",
    "'POSTCONTENT': 'GLORIOUS KANE SMASHED VAR',\n",
    "'DATE': '2019-01-08',\n",
    "'AUTHOR': 'LAWRENCE FREEMAN',\n",
    "'IMAGES': [\n",
    "\t{\n",
    "\t\t'TITLE': 'KANE GETS TRIPPED',\n",
    "\t\t'IMAGEFILENAME': './TRIP.JPG',\n",
    "\t\t'DATE': '2019-01-09'\n",
    "\t},\n",
    "\t{\n",
    "\t\t'TITLE': 'POTECHINO STAYS',\n",
    "\t\t'IMAGEFILENAME': './COMMITMENTFROMBOSS.JPG',\n",
    "\t\t'DATE': '2019-01-09'\n",
    "\t}],\n",
    "'COMMENTS': [\n",
    "    {\n",
    "\t\t'COMMENT': 'YEAH I AGREE',\n",
    "\t\t'DATE': '2018-01-09',\n",
    "\t\t'AUTHOR': 'STINKY PETE'\n",
    "\t},\n",
    "\t{\n",
    "\t\t'COMMENT': 'I was on the Guardian Soulmates section for six years, I met a lady in the first few months but it was never going to be anything more than a friendship. After that I had no meetings at all, a few speculative emails but that was it, really quite soul destroying in feeling serially overlooked. Four years on Tinder with no contacts at all with the associated slap in the face that my brother went on once his divorce was finalised and was talking to five ladies within the first four hours. I tried two of the commercial online options and had one meeting from each both of whom were no reflection in reality of the online persona they had projected and I came away feeling very misled. A third online site didn\\'t even allow me on! After a huge registration questionnaire which took at least an hour to complete there appeared a dialogue box saying, \"unfortunately, none of our users matches your criteria\" (I didn\\'t even mention the fish worrying!) and a long email explaining it wasn\\'t me but them. All this desultory experience has often made me wonder if I\\'m actually too open and honest for the online world. I\\'ve been single now for about ten years and whilst I\\'m self-sufficient from day to day I am unutterably lonely in having nobody to share experiences and the mundanities of life with.',\n",
    "\t\t'DATE': '2018-01-09',\n",
    "\t\t'AUTHOR': 'LEEDSLAD1967'\n",
    "\t}]\n",
    "}"
   ]
  },
  {
   "cell_type": "code",
   "execution_count": 7,
   "metadata": {},
   "outputs": [
    {
     "data": {
      "text/plain": [
       "{'POSTTITLE': 'SPURS BEAT CHELSEA',\n",
       " 'POSTCONTENT': 'GLORIOUS KANE SMASHED VAR',\n",
       " 'DATE': '2019-01-08',\n",
       " 'AUTHOR': 'LAWRENCE FREEMAN',\n",
       " 'IMAGES': [{'TITLE': 'KANE GETS TRIPPED',\n",
       "   'IMAGEFILENAME': './TRIP.JPG',\n",
       "   'DATE': '2019-01-09'},\n",
       "  {'TITLE': 'POTECHINO STAYS',\n",
       "   'IMAGEFILENAME': './COMMITMENTFROMBOSS.JPG',\n",
       "   'DATE': '2019-01-09'}],\n",
       " 'COMMENTS': [{'COMMENT': 'YEAH I AGREE',\n",
       "   'DATE': '2018-01-09',\n",
       "   'AUTHOR': 'STINKY PETE'},\n",
       "  {'COMMENT': 'I was on the Guardian Soulmates section for six years, I met a lady in the first few months but it was never going to be anything more than a friendship. After that I had no meetings at all, a few speculative emails but that was it, really quite soul destroying in feeling serially overlooked. Four years on Tinder with no contacts at all with the associated slap in the face that my brother went on once his divorce was finalised and was talking to five ladies within the first four hours. I tried two of the commercial online options and had one meeting from each both of whom were no reflection in reality of the online persona they had projected and I came away feeling very misled. A third online site didn\\'t even allow me on! After a huge registration questionnaire which took at least an hour to complete there appeared a dialogue box saying, \"unfortunately, none of our users matches your criteria\" (I didn\\'t even mention the fish worrying!) and a long email explaining it wasn\\'t me but them. All this desultory experience has often made me wonder if I\\'m actually too open and honest for the online world. I\\'ve been single now for about ten years and whilst I\\'m self-sufficient from day to day I am unutterably lonely in having nobody to share experiences and the mundanities of life with.',\n",
       "   'DATE': '2018-01-09',\n",
       "   'AUTHOR': 'LEEDSLAD1967'}]}"
      ]
     },
     "execution_count": 7,
     "metadata": {},
     "output_type": "execute_result"
    }
   ],
   "source": [
    "post"
   ]
  },
  {
   "cell_type": "code",
   "execution_count": 13,
   "metadata": {},
   "outputs": [
    {
     "data": {
      "text/plain": [
       "{'COMMENT': 'I was on the Guardian Soulmates section for six years, I met a lady in the first few months but it was never going to be anything more than a friendship. After that I had no meetings at all, a few speculative emails but that was it, really quite soul destroying in feeling serially overlooked. Four years on Tinder with no contacts at all with the associated slap in the face that my brother went on once his divorce was finalised and was talking to five ladies within the first four hours. I tried two of the commercial online options and had one meeting from each both of whom were no reflection in reality of the online persona they had projected and I came away feeling very misled. A third online site didn\\'t even allow me on! After a huge registration questionnaire which took at least an hour to complete there appeared a dialogue box saying, \"unfortunately, none of our users matches your criteria\" (I didn\\'t even mention the fish worrying!) and a long email explaining it wasn\\'t me but them. All this desultory experience has often made me wonder if I\\'m actually too open and honest for the online world. I\\'ve been single now for about ten years and whilst I\\'m self-sufficient from day to day I am unutterably lonely in having nobody to share experiences and the mundanities of life with.',\n",
       " 'DATE': '2018-01-09',\n",
       " 'AUTHOR': 'LEEDSLAD1967'}"
      ]
     },
     "execution_count": 13,
     "metadata": {},
     "output_type": "execute_result"
    }
   ],
   "source": [
    "post['COMMENTS'][1]"
   ]
  },
  {
   "cell_type": "code",
   "execution_count": 14,
   "metadata": {},
   "outputs": [
    {
     "data": {
      "text/plain": [
       "dict_keys(['POSTTITLE', 'POSTCONTENT', 'DATE', 'AUTHOR', 'IMAGES', 'COMMENTS'])"
      ]
     },
     "execution_count": 14,
     "metadata": {},
     "output_type": "execute_result"
    }
   ],
   "source": [
    "post.keys()"
   ]
  },
  {
   "cell_type": "code",
   "execution_count": 15,
   "metadata": {},
   "outputs": [
    {
     "data": {
      "text/plain": [
       "dict_values(['SPURS BEAT CHELSEA', 'GLORIOUS KANE SMASHED VAR', '2019-01-08', 'LAWRENCE FREEMAN', [{'TITLE': 'KANE GETS TRIPPED', 'IMAGEFILENAME': './TRIP.JPG', 'DATE': '2019-01-09'}, {'TITLE': 'POTECHINO STAYS', 'IMAGEFILENAME': './COMMITMENTFROMBOSS.JPG', 'DATE': '2019-01-09'}], [{'COMMENT': 'YEAH I AGREE', 'DATE': '2018-01-09', 'AUTHOR': 'STINKY PETE'}, {'COMMENT': 'I was on the Guardian Soulmates section for six years, I met a lady in the first few months but it was never going to be anything more than a friendship. After that I had no meetings at all, a few speculative emails but that was it, really quite soul destroying in feeling serially overlooked. Four years on Tinder with no contacts at all with the associated slap in the face that my brother went on once his divorce was finalised and was talking to five ladies within the first four hours. I tried two of the commercial online options and had one meeting from each both of whom were no reflection in reality of the online persona they had projected and I came away feeling very misled. A third online site didn\\'t even allow me on! After a huge registration questionnaire which took at least an hour to complete there appeared a dialogue box saying, \"unfortunately, none of our users matches your criteria\" (I didn\\'t even mention the fish worrying!) and a long email explaining it wasn\\'t me but them. All this desultory experience has often made me wonder if I\\'m actually too open and honest for the online world. I\\'ve been single now for about ten years and whilst I\\'m self-sufficient from day to day I am unutterably lonely in having nobody to share experiences and the mundanities of life with.', 'DATE': '2018-01-09', 'AUTHOR': 'LEEDSLAD1967'}]])"
      ]
     },
     "execution_count": 15,
     "metadata": {},
     "output_type": "execute_result"
    }
   ],
   "source": [
    "post.values()"
   ]
  },
  {
   "cell_type": "code",
   "execution_count": 16,
   "metadata": {},
   "outputs": [
    {
     "data": {
      "text/plain": [
       "dict_items([('POSTTITLE', 'SPURS BEAT CHELSEA'), ('POSTCONTENT', 'GLORIOUS KANE SMASHED VAR'), ('DATE', '2019-01-08'), ('AUTHOR', 'LAWRENCE FREEMAN'), ('IMAGES', [{'TITLE': 'KANE GETS TRIPPED', 'IMAGEFILENAME': './TRIP.JPG', 'DATE': '2019-01-09'}, {'TITLE': 'POTECHINO STAYS', 'IMAGEFILENAME': './COMMITMENTFROMBOSS.JPG', 'DATE': '2019-01-09'}]), ('COMMENTS', [{'COMMENT': 'YEAH I AGREE', 'DATE': '2018-01-09', 'AUTHOR': 'STINKY PETE'}, {'COMMENT': 'I was on the Guardian Soulmates section for six years, I met a lady in the first few months but it was never going to be anything more than a friendship. After that I had no meetings at all, a few speculative emails but that was it, really quite soul destroying in feeling serially overlooked. Four years on Tinder with no contacts at all with the associated slap in the face that my brother went on once his divorce was finalised and was talking to five ladies within the first four hours. I tried two of the commercial online options and had one meeting from each both of whom were no reflection in reality of the online persona they had projected and I came away feeling very misled. A third online site didn\\'t even allow me on! After a huge registration questionnaire which took at least an hour to complete there appeared a dialogue box saying, \"unfortunately, none of our users matches your criteria\" (I didn\\'t even mention the fish worrying!) and a long email explaining it wasn\\'t me but them. All this desultory experience has often made me wonder if I\\'m actually too open and honest for the online world. I\\'ve been single now for about ten years and whilst I\\'m self-sufficient from day to day I am unutterably lonely in having nobody to share experiences and the mundanities of life with.', 'DATE': '2018-01-09', 'AUTHOR': 'LEEDSLAD1967'}])])"
      ]
     },
     "execution_count": 16,
     "metadata": {},
     "output_type": "execute_result"
    }
   ],
   "source": [
    "post.items()"
   ]
  },
  {
   "cell_type": "code",
   "execution_count": 17,
   "metadata": {},
   "outputs": [
    {
     "data": {
      "text/plain": [
       "'I was on the Guardian Soulmates section for six years, I met a lady in the first few months but it was never going to be anything more than a friendship. After that I had no meetings at all, a few speculative emails but that was it, really quite soul destroying in feeling serially overlooked. Four years on Tinder with no contacts at all with the associated slap in the face that my brother went on once his divorce was finalised and was talking to five ladies within the first four hours. I tried two of the commercial online options and had one meeting from each both of whom were no reflection in reality of the online persona they had projected and I came away feeling very misled. A third online site didn\\'t even allow me on! After a huge registration questionnaire which took at least an hour to complete there appeared a dialogue box saying, \"unfortunately, none of our users matches your criteria\" (I didn\\'t even mention the fish worrying!) and a long email explaining it wasn\\'t me but them. All this desultory experience has often made me wonder if I\\'m actually too open and honest for the online world. I\\'ve been single now for about ten years and whilst I\\'m self-sufficient from day to day I am unutterably lonely in having nobody to share experiences and the mundanities of life with.'"
      ]
     },
     "execution_count": 17,
     "metadata": {},
     "output_type": "execute_result"
    }
   ],
   "source": [
    "post['COMMENTS'][1]['COMMENT'] #Bad way of doing it"
   ]
  },
  {
   "cell_type": "code",
   "execution_count": 19,
   "metadata": {},
   "outputs": [
    {
     "data": {
      "text/plain": [
       "\"Doesn't exist baby baby\""
      ]
     },
     "execution_count": 19,
     "metadata": {},
     "output_type": "execute_result"
    }
   ],
   "source": [
    "post.get('COMMENTS', 'Doesn\\'t exist baby baby') #Good way of doing it"
   ]
  },
  {
   "cell_type": "code",
   "execution_count": 37,
   "metadata": {},
   "outputs": [],
   "source": [
    "orders = [{\n",
    "\t\t'ORDERID': '43667',\n",
    "\t\t'COST': '6876.3649',\n",
    "\t\t'ORDERDATE': '2005-07-01',\n",
    "\t\t'HAPPYSHOPPERID': '29974',\n",
    "\t\t'PRODUCTS': [\n",
    "\t\t\t{\n",
    "\t\t\t\t'PRODUCTNAME': 'Mountain Bike Socks, L',\n",
    "\t\t\t\t'PRODUCTCOLOUR': 'WHITE',\n",
    "\t\t\t\t'PRODUCTQUANTITY': '3'\n",
    "\t\t\t},\n",
    "\t\t\t{\n",
    "\t\t\t\t'PRODUCTNAME': 'Mountain-100 Silver, 44',\n",
    "\t\t\t\t'PRODUCTCOLOUR': 'SILVER',\n",
    "\t\t\t\t'PRODUCTQUANTITY': '1'\n",
    "\t\t\t},{\n",
    "\t\t\t\t'PRODUCTNAME': 'Mountain-100 Black, 48',\n",
    "\t\t\t\t'PRODUCTCOLOUR': 'BLACK',\n",
    "\t\t\t\t'PRODUCTQUANTITY': '1'\n",
    "\t\t\t},\n",
    "\t\t\t{\n",
    "\t\t\t\t'PRODUCTNAME': 'Mountain-100 Black, 38',\n",
    "\t\t\t\t'PRODUCTCOLOUR': 'BLACK',\n",
    "\t\t\t\t'PRODUCTQUANTITY': '1'\n",
    "\t\t\t}],\n",
    "    },\n",
    "    {\n",
    "\t\t'ORDERID': '43670',\n",
    "\t\t'COST': '6893.2549',\n",
    "\t\t'ORDERDATE': '2005-07-01',\n",
    "\t\t'HAPPYSHOPPERID': '29566',\n",
    "\t\t'PRODUCTS': [\n",
    "\t\t\t{\n",
    "\t\t\t\t'PRODUCTNAME': 'Mountain Bike Socks, L',\n",
    "\t\t\t\t'PRODUCTCOLOUR': 'WHITE',\n",
    "\t\t\t\t'PRODUCTQUANTITY': '1'\n",
    "\t\t\t},\n",
    "\t\t\t{\n",
    "\t\t\t\t'PRODUCTNAME': 'Mountain Bike Socks, M',\n",
    "\t\t\t\t'PRODUCTCOLOUR': 'WHITE',\n",
    "\t\t\t\t'PRODUCTQUANTITY': '2'\n",
    "\t\t\t},{\n",
    "\t\t\t\t'PRODUCTNAME': 'Mountain-100 Silver, 44',\n",
    "\t\t\t\t'PRODUCTCOLOUR': 'SILVER',\n",
    "\t\t\t\t'PRODUCTQUANTITY': '2'\n",
    "\t\t\t},\n",
    "\t\t\t{\n",
    "\t\t\t\t'PRODUCTNAME': 'Mountain-100 Black, 42',\n",
    "\t\t\t\t'PRODUCTCOLOUR': 'BLACK',\n",
    "\t\t\t\t'PRODUCTQUANTITY': '1'\n",
    "\t\t\t}],\n",
    "    },\n",
    "    {\n",
    "\t\t'ORDERID': '43685',\n",
    "\t\t'COST': '3082.0191',\n",
    "\t\t'ORDERDATE': '2005-07-01',\n",
    "\t\t'HAPPYSHOPPERID': '30084',\n",
    "\t\t'PRODUCTS': [\n",
    "\t\t\t{\n",
    "\t\t\t\t'PRODUCTNAME': 'Road-650 Black, 58',\n",
    "\t\t\t\t'PRODUCTCOLOUR': 'BLACK',\n",
    "\t\t\t\t'PRODUCTQUANTITY': '3'\n",
    "\t\t\t},\n",
    "\t\t\t{\n",
    "\t\t\t\t'PRODUCTNAME': 'Road-650 Red, 48',\n",
    "\t\t\t\t'PRODUCTCOLOUR': 'RED',\n",
    "\t\t\t\t'PRODUCTQUANTITY': '1'\n",
    "\t\t\t},{\n",
    "\t\t\t\t'PRODUCTNAME': 'Road-450 Red, 58',\n",
    "\t\t\t\t'PRODUCTCOLOUR': 'RED',\n",
    "\t\t\t\t'PRODUCTQUANTITY': '1'\n",
    "\t\t\t},\n",
    "\t\t\t{\n",
    "\t\t\t\t'PRODUCTNAME': 'LL Road Frame - Red, 44',\n",
    "\t\t\t\t'PRODUCTCOLOUR': 'RED',\n",
    "\t\t\t\t'PRODUCTQUANTITY': '1'\n",
    "    }]\n",
    "}]"
   ]
  },
  {
   "cell_type": "code",
   "execution_count": 38,
   "metadata": {},
   "outputs": [
    {
     "data": {
      "text/plain": [
       "[{'ORDERID': '43667',\n",
       "  'COST': '6876.3649',\n",
       "  'ORDERDATE': '2005-07-01',\n",
       "  'HAPPYSHOPPERID': '29974',\n",
       "  'PRODUCTS': [{'PRODUCTNAME': 'Mountain Bike Socks, L',\n",
       "    'PRODUCTCOLOUR': 'WHITE',\n",
       "    'PRODUCTQUANTITY': '3'},\n",
       "   {'PRODUCTNAME': 'Mountain-100 Silver, 44',\n",
       "    'PRODUCTCOLOUR': 'SILVER',\n",
       "    'PRODUCTQUANTITY': '1'},\n",
       "   {'PRODUCTNAME': 'Mountain-100 Black, 48',\n",
       "    'PRODUCTCOLOUR': 'BLACK',\n",
       "    'PRODUCTQUANTITY': '1'},\n",
       "   {'PRODUCTNAME': 'Mountain-100 Black, 38',\n",
       "    'PRODUCTCOLOUR': 'BLACK',\n",
       "    'PRODUCTQUANTITY': '1'}]},\n",
       " {'ORDERID': '43670',\n",
       "  'COST': '6893.2549',\n",
       "  'ORDERDATE': '2005-07-01',\n",
       "  'HAPPYSHOPPERID': '29566',\n",
       "  'PRODUCTS': [{'PRODUCTNAME': 'Mountain Bike Socks, L',\n",
       "    'PRODUCTCOLOUR': 'WHITE',\n",
       "    'PRODUCTQUANTITY': '1'},\n",
       "   {'PRODUCTNAME': 'Mountain Bike Socks, M',\n",
       "    'PRODUCTCOLOUR': 'WHITE',\n",
       "    'PRODUCTQUANTITY': '2'},\n",
       "   {'PRODUCTNAME': 'Mountain-100 Silver, 44',\n",
       "    'PRODUCTCOLOUR': 'SILVER',\n",
       "    'PRODUCTQUANTITY': '2'},\n",
       "   {'PRODUCTNAME': 'Mountain-100 Black, 42',\n",
       "    'PRODUCTCOLOUR': 'BLACK',\n",
       "    'PRODUCTQUANTITY': '1'}]},\n",
       " {'ORDERID': '43685',\n",
       "  'COST': '3082.0191',\n",
       "  'ORDERDATE': '2005-07-01',\n",
       "  'HAPPYSHOPPERID': '30084',\n",
       "  'PRODUCTS': [{'PRODUCTNAME': 'Road-650 Black, 58',\n",
       "    'PRODUCTCOLOUR': 'BLACK',\n",
       "    'PRODUCTQUANTITY': '3'},\n",
       "   {'PRODUCTNAME': 'Road-650 Red, 48',\n",
       "    'PRODUCTCOLOUR': 'RED',\n",
       "    'PRODUCTQUANTITY': '1'},\n",
       "   {'PRODUCTNAME': 'Road-450 Red, 58',\n",
       "    'PRODUCTCOLOUR': 'RED',\n",
       "    'PRODUCTQUANTITY': '1'},\n",
       "   {'PRODUCTNAME': 'LL Road Frame - Red, 44',\n",
       "    'PRODUCTCOLOUR': 'RED',\n",
       "    'PRODUCTQUANTITY': '1'}]}]"
      ]
     },
     "execution_count": 38,
     "metadata": {},
     "output_type": "execute_result"
    }
   ],
   "source": [
    "orders"
   ]
  },
  {
   "cell_type": "code",
   "execution_count": 39,
   "metadata": {},
   "outputs": [
    {
     "data": {
      "text/plain": [
       "dict_keys(['ORDERID', 'COST', 'ORDERDATE', 'HAPPYSHOPPERID', 'PRODUCTS'])"
      ]
     },
     "execution_count": 39,
     "metadata": {},
     "output_type": "execute_result"
    }
   ],
   "source": [
    "orders[0].keys()"
   ]
  },
  {
   "cell_type": "code",
   "execution_count": 40,
   "metadata": {},
   "outputs": [
    {
     "data": {
      "text/plain": [
       "dict_values(['43667', '6876.3649', '2005-07-01', '29974', [{'PRODUCTNAME': 'Mountain Bike Socks, L', 'PRODUCTCOLOUR': 'WHITE', 'PRODUCTQUANTITY': '3'}, {'PRODUCTNAME': 'Mountain-100 Silver, 44', 'PRODUCTCOLOUR': 'SILVER', 'PRODUCTQUANTITY': '1'}, {'PRODUCTNAME': 'Mountain-100 Black, 48', 'PRODUCTCOLOUR': 'BLACK', 'PRODUCTQUANTITY': '1'}, {'PRODUCTNAME': 'Mountain-100 Black, 38', 'PRODUCTCOLOUR': 'BLACK', 'PRODUCTQUANTITY': '1'}]])"
      ]
     },
     "execution_count": 40,
     "metadata": {},
     "output_type": "execute_result"
    }
   ],
   "source": [
    "orders[0].values()"
   ]
  },
  {
   "cell_type": "code",
   "execution_count": 41,
   "metadata": {},
   "outputs": [
    {
     "data": {
      "text/plain": [
       "list"
      ]
     },
     "execution_count": 41,
     "metadata": {},
     "output_type": "execute_result"
    }
   ],
   "source": [
    "type(orders)"
   ]
  },
  {
   "cell_type": "code",
   "execution_count": 44,
   "metadata": {},
   "outputs": [
    {
     "data": {
      "text/plain": [
       "'30084'"
      ]
     },
     "execution_count": 44,
     "metadata": {},
     "output_type": "execute_result"
    }
   ],
   "source": [
    "orders[2].get('HAPPYSHOPPERID')"
   ]
  },
  {
   "cell_type": "code",
   "execution_count": 48,
   "metadata": {},
   "outputs": [],
   "source": [
    "# how to pull data from a list of dictionaries and place it in lists\n",
    "customers = []\n",
    "dates = []\n",
    "totaldues = []\n",
    "for o in orders:\n",
    "    customers.append(o.get('HAPPYSHOPPERID'))\n",
    "    dates.append(o.get('ORDERDATE'))\n",
    "    totaldues.append(o.get('COST'))"
   ]
  },
  {
   "cell_type": "code",
   "execution_count": 62,
   "metadata": {},
   "outputs": [
    {
     "data": {
      "text/plain": [
       "['29974', '29566', '30084']"
      ]
     },
     "execution_count": 62,
     "metadata": {},
     "output_type": "execute_result"
    }
   ],
   "source": [
    "customers"
   ]
  },
  {
   "cell_type": "code",
   "execution_count": 63,
   "metadata": {},
   "outputs": [
    {
     "data": {
      "text/plain": [
       "['2005-07-01', '2005-07-01', '2005-07-01']"
      ]
     },
     "execution_count": 63,
     "metadata": {},
     "output_type": "execute_result"
    }
   ],
   "source": [
    "dates"
   ]
  },
  {
   "cell_type": "code",
   "execution_count": 51,
   "metadata": {},
   "outputs": [
    {
     "data": {
      "text/plain": [
       "['6876.3649', '6893.2549', '3082.0191']"
      ]
     },
     "execution_count": 51,
     "metadata": {},
     "output_type": "execute_result"
    }
   ],
   "source": [
    "totaldues"
   ]
  },
  {
   "cell_type": "code",
   "execution_count": 53,
   "metadata": {},
   "outputs": [],
   "source": [
    "orders2 = zip(customers, dates, totaldues)"
   ]
  },
  {
   "cell_type": "code",
   "execution_count": 55,
   "metadata": {},
   "outputs": [
    {
     "data": {
      "text/plain": [
       "zip"
      ]
     },
     "execution_count": 55,
     "metadata": {},
     "output_type": "execute_result"
    }
   ],
   "source": [
    "type(orders2)"
   ]
  },
  {
   "cell_type": "code",
   "execution_count": 56,
   "metadata": {},
   "outputs": [
    {
     "name": "stdout",
     "output_type": "stream",
     "text": [
      "[('29974', '2005-07-01', '6876.3649'), ('29566', '2005-07-01', '6893.2549'), ('30084', '2005-07-01', '3082.0191')]\n"
     ]
    }
   ],
   "source": [
    "print(list(orders2))"
   ]
  },
  {
   "cell_type": "code",
   "execution_count": 64,
   "metadata": {},
   "outputs": [],
   "source": [
    "orders3 = zip(customers, dates)"
   ]
  },
  {
   "cell_type": "code",
   "execution_count": 65,
   "metadata": {},
   "outputs": [
    {
     "name": "stdout",
     "output_type": "stream",
     "text": [
      "{'29974': '2005-07-01', '29566': '2005-07-01', '30084': '2005-07-01'}\n"
     ]
    }
   ],
   "source": [
    "print(dict(orders3))"
   ]
  },
  {
   "cell_type": "code",
   "execution_count": null,
   "metadata": {},
   "outputs": [],
   "source": []
  }
 ],
 "metadata": {
  "kernelspec": {
   "display_name": "Python 3",
   "language": "python",
   "name": "python3"
  },
  "language_info": {
   "codemirror_mode": {
    "name": "ipython",
    "version": 3
   },
   "file_extension": ".py",
   "mimetype": "text/x-python",
   "name": "python",
   "nbconvert_exporter": "python",
   "pygments_lexer": "ipython3",
   "version": "3.7.0"
  }
 },
 "nbformat": 4,
 "nbformat_minor": 2
}

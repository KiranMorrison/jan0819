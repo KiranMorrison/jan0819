{
 "cells": [
  {
   "cell_type": "markdown",
   "metadata": {},
   "source": [
    "# scraping data from reddit"
   ]
  },
  {
   "cell_type": "code",
   "execution_count": 1,
   "metadata": {},
   "outputs": [],
   "source": [
    "from urllib import request"
   ]
  },
  {
   "cell_type": "markdown",
   "metadata": {},
   "source": [
    "## -  Tricking a browser into thinking you're a browser"
   ]
  },
  {
   "cell_type": "code",
   "execution_count": 5,
   "metadata": {},
   "outputs": [],
   "source": [
    "url = 'https://www.reddit.com/r/wildhockey.json'\n",
    "req = request.Request(url, headers={'User-Agent': 'Mozilla/5.0 (Windows NT 10.0; Win64; x64) AppleWebKit/537.36 (KHTML, like Gecko) Chrome/71.0.3578.98 Safari/537.36'})"
   ]
  },
  {
   "cell_type": "code",
   "execution_count": 10,
   "metadata": {},
   "outputs": [
    {
     "data": {
      "text/plain": [
       "str"
      ]
     },
     "execution_count": 10,
     "metadata": {},
     "output_type": "execute_result"
    }
   ],
   "source": [
    "type(data) # returns string, but I wanted a damned dictionary"
   ]
  },
  {
   "cell_type": "code",
   "execution_count": 12,
   "metadata": {},
   "outputs": [],
   "source": [
    "import json"
   ]
  },
  {
   "cell_type": "code",
   "execution_count": 13,
   "metadata": {},
   "outputs": [],
   "source": [
    "reddit = json.loads(data)"
   ]
  },
  {
   "cell_type": "code",
   "execution_count": 46,
   "metadata": {},
   "outputs": [
    {
     "data": {
      "text/plain": [
       "dict"
      ]
     },
     "execution_count": 46,
     "metadata": {},
     "output_type": "execute_result"
    }
   ],
   "source": [
    "type(reddit)"
   ]
  },
  {
   "cell_type": "code",
   "execution_count": 23,
   "metadata": {},
   "outputs": [],
   "source": [
    "from pprint import pprint"
   ]
  },
  {
   "cell_type": "code",
   "execution_count": 32,
   "metadata": {},
   "outputs": [
    {
     "data": {
      "text/plain": [
       "'Wake up Wild! Game tonight!'"
      ]
     },
     "execution_count": 32,
     "metadata": {},
     "output_type": "execute_result"
    }
   ],
   "source": [
    "reddit.get('data').get('children')[-1].get('data').get('title')"
   ]
  },
  {
   "cell_type": "code",
   "execution_count": 1,
   "metadata": {},
   "outputs": [
    {
     "ename": "NameError",
     "evalue": "name 'reddit' is not defined",
     "output_type": "error",
     "traceback": [
      "\u001b[1;31m---------------------------------------------------------------------------\u001b[0m",
      "\u001b[1;31mNameError\u001b[0m                                 Traceback (most recent call last)",
      "\u001b[1;32m<ipython-input-1-3411bf1de86d>\u001b[0m in \u001b[0;36m<module>\u001b[1;34m()\u001b[0m\n\u001b[1;32m----> 1\u001b[1;33m \u001b[1;32mfor\u001b[0m \u001b[0mt\u001b[0m \u001b[1;32min\u001b[0m \u001b[0mreddit\u001b[0m\u001b[1;33m.\u001b[0m\u001b[0mget\u001b[0m\u001b[1;33m(\u001b[0m\u001b[1;34m'data'\u001b[0m\u001b[1;33m)\u001b[0m\u001b[1;33m.\u001b[0m\u001b[0mget\u001b[0m\u001b[1;33m(\u001b[0m\u001b[1;34m'children'\u001b[0m\u001b[1;33m)\u001b[0m\u001b[1;33m:\u001b[0m\u001b[1;33m\u001b[0m\u001b[0m\n\u001b[0m\u001b[0;32m      2\u001b[0m     \u001b[0mprint\u001b[0m\u001b[1;33m(\u001b[0m\u001b[0mt\u001b[0m\u001b[1;33m.\u001b[0m\u001b[0mget\u001b[0m\u001b[1;33m(\u001b[0m\u001b[1;34m'data'\u001b[0m\u001b[1;33m)\u001b[0m\u001b[1;33m.\u001b[0m\u001b[0mget\u001b[0m\u001b[1;33m(\u001b[0m\u001b[1;34m'title'\u001b[0m\u001b[1;33m,\u001b[0m\u001b[1;34m'selftext'\u001b[0m\u001b[1;33m,\u001b[0m\u001b[1;34m'ups'\u001b[0m\u001b[1;33m,\u001b[0m\u001b[1;34m'downs'\u001b[0m\u001b[1;33m)\u001b[0m\u001b[1;33m)\u001b[0m\u001b[1;33m\u001b[0m\u001b[0m\n",
      "\u001b[1;31mNameError\u001b[0m: name 'reddit' is not defined"
     ]
    }
   ],
   "source": [
    "for t in reddit.get('data').get('children'):\n",
    "    print(t.get('data').get('title'))"
   ]
  },
  {
   "cell_type": "code",
   "execution_count": 37,
   "metadata": {},
   "outputs": [],
   "source": [
    "titles = []\n",
    "contents = []\n",
    "for t in reddit.get('data').get('children'):\n",
    "    titles.append(t.get('data').get('title'))\n",
    "    contents.append(t.get('data').get('selftext'))"
   ]
  },
  {
   "cell_type": "code",
   "execution_count": 42,
   "metadata": {},
   "outputs": [],
   "source": [
    "posts = zip(titles, contents)"
   ]
  },
  {
   "cell_type": "code",
   "execution_count": 45,
   "metadata": {},
   "outputs": [
    {
     "name": "stdout",
     "output_type": "stream",
     "text": [
      "{\"Offer from Canucks: We'll vote for Parise if you vote for Boeser.\": 'Deal?\\n\\nEDIT: Done deal.\\n\\nhttps://www.reddit.com/r/canucks/comments/acmeed/done_deals_we_vote_for_larkin_parise_backstrom/\\n\\n#http://nhl.com/vote', 'First wild game!': '', \"PGT: Yeah, that's about right.\": 'The boys open up wide for their 4-0 loss.\\n\\nSorry Stalock.', 'Checking in from enemy territory! LGW!': '', 'WAKE THE FUCK UP, WE ARE BACK AT IT': 'Boston at 6 local on FSN', \"Even the NHL app wanted me to forget tonight's game\": '', 'Game Thread: BRUISE THE BRUINS': '', 'Wild 2018-2019 Season Tracker: No. Wait. Average Again.': '', 'CBJ fan here.': 'Just wanted to pop by and say, we feel your pain with tonight’s scores.\\n\\n*P.S. I think your teams colors and goal horn are fucking awesome*', 'Recap: MIN @ BOS': '', 'I wanted to share my pride while accomplishing my New Years resolution!': '', 'Putting Parise and Suter’s contracts into perspective': 'With the halfway mark of Parise and Suter’s contracts behind us, it seems as if the detractors of the contracts are again coming out of the woodwork. I’m here to tell you it’s *not that bad.* Actually they’re really not bad at all. Here I will break down each team’s most expensive two contracts and their percent of cap hit they absorb.\\n\\n**Anaheim Ducks** - *Ryan Getzlaf, Ryan Kesler*: 19%\\n\\n**Arizona Coyotes** - *Oliver Ekman-Larsson, Derek Stepan*: \\n15.1%\\n\\n**Boston Bruins** - *David Krejci, Patrice Bergeron*: 17.8%\\n\\n**Buffalo Sabres** - *Jack Eichel, Kyle Okposo*: 20.1%\\n\\n**Calgary Flames** - *Johnny Gaudreau, Mark Giordano*: 17%\\n\\n**Carolina Hurricanes** - *Dougie Hamilton, Jaccob Slavin*: 14%\\n\\n**Chicago Blackhawks** - *Jonathan Toews, Patrick Kane*: 26.4%\\n\\n**Colorado Avalanche** - *Erik Johnson, Nathan MacKinnon*: 15.5%\\n\\n**Columbus Blue Jackets** - *Artemi Panarin, Cam Atkinson*: 15%\\n\\n**Dallas Stars** - *Jamie Benn, Jason Spezza*: 21.4%\\n\\n**Detroit Red Wings** - *Dylan Larkin, Frans Nielsen*: 14.3%\\n\\n**Edmonton Oilers** - *Connor McDavid, Leon Draisaitl*: 26.4%\\n\\n**Florida Panthers** - *Aaron Ekblad, Keith Yandle*: 17.4%\\n\\n**Los Angeles Kings** - *Anze Kopitar, Drew Doughty*: 21.4%\\n\\n**Minnesota Wild** - *Zach Parise, Ryan Suter*: 19%\\n\\n**Montreal Canadiens** - *Shea Weber, Carey Price*: 23.1%\\n\\n**Nashville Predators** - *Ryan Johansen, P.K. Subban*: 21.4%\\n\\n**New Jersey Devils** - *Taylor Hall, Cory Schneider*: 15.1%\\n\\n**New York Islanders** - *Jordan Eberle, Johnny Boychuk*: 15.1%\\n\\n**New York Rangers** - *Kevin Shattenkirk, Henrik Lundqvist*: 19.1%\\n\\n**Ottawa Senators** - *Mark Stone, Bobby Ryan*: 18.4%\\n\\n**Philadelphia Flyers** - *Claude Giroux, Jakub Voracek*: 21%\\n\\n**Pittsburgh Penguins** - *Sidney Crosby, Evgeni Malkin*: 23%\\n\\n**San Jose Sharks** - *Brent Burns, Evander Kane*: 18.9%\\n\\n**St. Louis Blues** - *Ryan O’Reilly, Vladimir Tarasenko*: 18.9%\\n\\n**Tampa Bay Lightning** - *Steven Stamkos, Victor Hedman*: 20.6%\\n\\n**Toronto Maple Leafs** - *John Tavares, William Nylander*: 22.5%\\n\\n**Vancouver Canucks** - *Loui Eriksson, Bo Horvat*: 14.5%\\n\\n**Vegas Golden Knights** - *Paul Stastny, Marc-Andre Fleury*: 15.4%\\n\\n**Washington Capitals** - *Alex Ovechkin, John Carlson*: 22.1%\\n\\n**Winnipeg Jets** - *Connor Hellebuyck, Dustin Byfuglien*: 17.3%\\n\\nIn conclusion, 14 teams are paying two players more than what we’re paying Parise and Suter, and that number will likely grow with new contracts to be signed among stars like Auston Matthews and Patrik Laine. So with Parise and Suter, it’s really not bad.', 'Anyone else still have a copy of this?': '', 'The man, the myth, the legend, he is Pierre-Marc Bouchard. Seeing him brings back so many great memories': '', 'PGT: THREE IN A ROW FOR TOMATO': '🍅🍅🍅🍅🍅🍅🍅🍅🍅🍅🍅🍅🍅\\n\\n[The boys get the shutout for Brucy 1-0](https://imgur.com/N3beynI)\\n\\n🍅🍅🍅🍅🍅🍅🍅🍅🍅🍅🍅🍅🍅 ', 'Thanks for brewing up a nice hot cup of falling on your face Bruins!! Chumps!': '', 'Wild 2018-2019 Season Tracker: Above Average Edition': '', '[Shit Post] Warms my cold Minnesota heart.': '', 'Recap: MIN @ MTL': '', 'GDT: Canadican’ts': 'Let’s take down some cake-eating Habs tonight boys (and girls)!', 'My suggestion for our anthem for any low point this season.': '', \"WE WOULD BE THANOS' FAVORITE HOCKEY TEAM\": 'From a fun (sad) article from The Athletic today...\\n\\n&amp;#x200B;\\n\\n\"The Minnesota Wild are almost perfectly average right now. Through 40 games, they’ve won 20 and lost 20. They’ve won ten and lost ten at home, and they’ve won ten and lost ten on the road. Their goals differential is +5, which is a little higher than average but not by much. And they’re just\\xa0a shade over 50 percent as a possession team.\"\\n\\n&amp;#x200B;\\n\\n[https://theathletic.com/753037/2019/01/07/dgb-weekend-power-rankings-crowning-the-most-middle-of-the-pack-team-at-the-midway-mark/](https://theathletic.com/753037/2019/01/07/dgb-weekend-power-rankings-crowning-the-most-middle-of-the-pack-team-at-the-midway-mark/)\\n\\n&amp;#x200B;\\n\\n&amp;#x200B;\\n\\n&amp;#x200B;\\n\\n&amp;#x200B;\\n\\n&amp;#x200B;\\n\\n&amp;#x200B;\\n\\n(FUCK NORM GREEN)\\n\\n&amp;#x200B;\\n\\n&amp;#x200B;\\n\\n&amp;#x200B;', 'Eriksson Ek’s point streak extends to 5 games': '4 goals 2 assists', \"I can officially say i've been to my first NHL game. Me and the girlfriend flew over from the UK for the Leafs game!\": \"Boys did me proud. Been a fan since early 2011 and i've finally seen us play.  \\n\\nIt was an incredible experience to finally see my heroes on the ice. Dubs, Granlund, Spurgeon, Coyle, Parise, Niederreiter, Staal, Zucker, Suter and of course MY MAN *BROOOOOOOOODDIIIIIIIIIIIIIIIIIINNNNNNNNNNN!!*\\n\\nGo wild.\\nMight have to take a road trip out to Minnesota next year.\", \"It's Easy to Vote for Parise! Go Vote!\": '', 'Wake up Wild! Game tonight!': ''}\n"
     ]
    }
   ],
   "source": [
    "print(dict(posts))"
   ]
  },
  {
   "cell_type": "code",
   "execution_count": 19,
   "metadata": {},
   "outputs": [
    {
     "ename": "KeyError",
     "evalue": "0",
     "output_type": "error",
     "traceback": [
      "\u001b[1;31m---------------------------------------------------------------------------\u001b[0m",
      "\u001b[1;31mKeyError\u001b[0m                                  Traceback (most recent call last)",
      "\u001b[1;32m<ipython-input-19-c887d0c2962d>\u001b[0m in \u001b[0;36m<module>\u001b[1;34m()\u001b[0m\n\u001b[1;32m----> 1\u001b[1;33m \u001b[0mreddit\u001b[0m\u001b[1;33m[\u001b[0m\u001b[1;36m0\u001b[0m\u001b[1;33m]\u001b[0m\u001b[1;33m.\u001b[0m\u001b[0mkeys\u001b[0m\u001b[1;33m(\u001b[0m\u001b[1;33m)\u001b[0m\u001b[1;33m\u001b[0m\u001b[0m\n\u001b[0m",
      "\u001b[1;31mKeyError\u001b[0m: 0"
     ]
    }
   ],
   "source": [
    "reddit.keys()"
   ]
  },
  {
   "cell_type": "code",
   "execution_count": 20,
   "metadata": {},
   "outputs": [
    {
     "data": {
      "text/plain": [
       "dict_keys(['modhash', 'dist', 'children', 'after', 'before'])"
      ]
     },
     "execution_count": 20,
     "metadata": {},
     "output_type": "execute_result"
    }
   ],
   "source": [
    "reddit['data'].keys()"
   ]
  },
  {
   "cell_type": "code",
   "execution_count": 22,
   "metadata": {},
   "outputs": [
    {
     "ename": "AttributeError",
     "evalue": "'list' object has no attribute 'keys'",
     "output_type": "error",
     "traceback": [
      "\u001b[1;31m---------------------------------------------------------------------------\u001b[0m",
      "\u001b[1;31mAttributeError\u001b[0m                            Traceback (most recent call last)",
      "\u001b[1;32m<ipython-input-22-a0a54ab1d665>\u001b[0m in \u001b[0;36m<module>\u001b[1;34m()\u001b[0m\n\u001b[1;32m----> 1\u001b[1;33m \u001b[0mreddit\u001b[0m\u001b[1;33m[\u001b[0m\u001b[1;34m'data'\u001b[0m\u001b[1;33m]\u001b[0m\u001b[1;33m[\u001b[0m\u001b[1;34m'children'\u001b[0m\u001b[1;33m]\u001b[0m\u001b[1;33m.\u001b[0m\u001b[0mkeys\u001b[0m\u001b[1;33m(\u001b[0m\u001b[1;33m)\u001b[0m\u001b[1;33m\u001b[0m\u001b[0m\n\u001b[0m",
      "\u001b[1;31mAttributeError\u001b[0m: 'list' object has no attribute 'keys'"
     ]
    }
   ],
   "source": []
  },
  {
   "cell_type": "code",
   "execution_count": null,
   "metadata": {},
   "outputs": [],
   "source": []
  }
 ],
 "metadata": {
  "kernelspec": {
   "display_name": "Python 3",
   "language": "python",
   "name": "python3"
  },
  "language_info": {
   "codemirror_mode": {
    "name": "ipython",
    "version": 3
   },
   "file_extension": ".py",
   "mimetype": "text/x-python",
   "name": "python",
   "nbconvert_exporter": "python",
   "pygments_lexer": "ipython3",
   "version": "3.7.0"
  }
 },
 "nbformat": 4,
 "nbformat_minor": 2
}
